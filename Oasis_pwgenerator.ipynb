{
  "nbformat": 4,
  "nbformat_minor": 0,
  "metadata": {
    "colab": {
      "provenance": [],
      "authorship_tag": "ABX9TyMwA+lGTsRW9ais30Q9HM8z",
      "include_colab_link": true
    },
    "kernelspec": {
      "name": "python3",
      "display_name": "Python 3"
    },
    "language_info": {
      "name": "python"
    }
  },
  "cells": [
    {
      "cell_type": "markdown",
      "metadata": {
        "id": "view-in-github",
        "colab_type": "text"
      },
      "source": [
        "<a href=\"https://colab.research.google.com/github/Ayush-Dutta/OIBSIP/blob/main/Oasis_pwgenerator.ipynb\" target=\"_parent\"><img src=\"https://colab.research.google.com/assets/colab-badge.svg\" alt=\"Open In Colab\"/></a>"
      ]
    },
    {
      "cell_type": "code",
      "execution_count": 8,
      "metadata": {
        "id": "Q4qON5SzPwKx"
      },
      "outputs": [],
      "source": [
        "import random\n",
        "import string"
      ]
    },
    {
      "cell_type": "code",
      "source": [
        "def get_password_length():\n",
        "    while True:\n",
        "        try:\n",
        "            length = int(input(\"Enter the length of the password: \"))\n",
        "            if length < 1:\n",
        "                print(\"Length of password should at least be 1.\")\n",
        "            else:\n",
        "                return length\n",
        "        except ValueError:\n",
        "            print(\"Invalid input. Please enter a valid integer.\")"
      ],
      "metadata": {
        "id": "4RJOFE6sRK_N"
      },
      "execution_count": 9,
      "outputs": []
    },
    {
      "cell_type": "code",
      "source": [
        "def generate_password(length, num_digits, num_letters):\n",
        "    num_special = length - num_digits - num_letters\n",
        "    if num_special < 0:\n",
        "        raise ValueError(\"The sum of the number of digits and letters exceeds the total length of the password.\")\n",
        "\n",
        "    password = \"\"\n",
        "    for _ in range(num_letters):\n",
        "        password += random.choice(string.ascii_letters)\n",
        "    for _ in range(num_digits):\n",
        "        password += random.choice(string.digits)\n",
        "    for _ in range(num_special):\n",
        "        password += random.choice(string.punctuation)\n",
        "\n",
        "    password = \"\".join(random.sample(password, length))  # Shuffle the characters\n",
        "    return password"
      ],
      "metadata": {
        "id": "XAJ1oxtvRLSV"
      },
      "execution_count": 10,
      "outputs": []
    },
    {
      "cell_type": "code",
      "source": [
        "def generate():\n",
        "    length = get_password_length()\n",
        "    num_letters = int(input(\"Enter the number of alphabets: \"))\n",
        "    num_digits = int(input(\"Enter the number of digits: \"))\n",
        "\n",
        "    try:\n",
        "        password = generate_password(length, num_digits, num_letters)\n",
        "        print(\"Generated password:\", password)\n",
        "    except ValueError as e:\n",
        "        print(e)"
      ],
      "metadata": {
        "id": "7I-nml81RLrK"
      },
      "execution_count": 11,
      "outputs": []
    },
    {
      "cell_type": "code",
      "source": [
        "generate()"
      ],
      "metadata": {
        "colab": {
          "base_uri": "https://localhost:8080/"
        },
        "id": "ukQo6CBqRPLg",
        "outputId": "d762ba3c-36b1-46ec-d994-d26175cdf918"
      },
      "execution_count": 12,
      "outputs": [
        {
          "output_type": "stream",
          "name": "stdout",
          "text": [
            "Enter the length of the password: 5\n",
            "Enter the number of alphabets: 1\n",
            "Enter the number of digits: 2\n",
            "Generated password: 8~8c\"\n"
          ]
        }
      ]
    }
  ]
}