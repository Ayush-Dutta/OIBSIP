{
  "nbformat": 4,
  "nbformat_minor": 0,
  "metadata": {
    "colab": {
      "provenance": [],
      "authorship_tag": "ABX9TyMYd66RQ6JUKJSU0rxkiYK3",
      "include_colab_link": true
    },
    "kernelspec": {
      "name": "python3",
      "display_name": "Python 3"
    },
    "language_info": {
      "name": "python"
    }
  },
  "cells": [
    {
      "cell_type": "markdown",
      "metadata": {
        "id": "view-in-github",
        "colab_type": "text"
      },
      "source": [
        "<a href=\"https://colab.research.google.com/github/Ayush-Dutta/OIBSIP/blob/main/Oasis_BMI.ipynb\" target=\"_parent\"><img src=\"https://colab.research.google.com/assets/colab-badge.svg\" alt=\"Open In Colab\"/></a>"
      ]
    },
    {
      "cell_type": "code",
      "execution_count": 1,
      "metadata": {
        "id": "-cBKy3SLUulv"
      },
      "outputs": [],
      "source": [
        "def get_valid_weight():\n",
        "    while True:\n",
        "        try:\n",
        "            weight = float(input(\"Enter your weight in kilograms: \"))\n",
        "            if weight <= 0:\n",
        "                print(\"Weight must be greater than 0.\")\n",
        "            else:\n",
        "                return weight\n",
        "        except ValueError:\n",
        "            print(\"Invalid input. Please enter a valid weight.\")"
      ]
    },
    {
      "cell_type": "code",
      "source": [
        "def get_valid_height():\n",
        "    while True:\n",
        "        try:\n",
        "            height = float(input(\"Enter your height in meters: \"))\n",
        "            if height <= 0:\n",
        "                print(\"Height must be greater than 0.\")\n",
        "            else:\n",
        "                return height\n",
        "        except ValueError:\n",
        "            print(\"Invalid input. Please enter a valid height.\")"
      ],
      "metadata": {
        "id": "DC50oZqyU0eL"
      },
      "execution_count": 2,
      "outputs": []
    },
    {
      "cell_type": "code",
      "source": [
        "def calculate_bmi(weight, height):\n",
        "    return weight / (height ** 2)\n",
        "\n",
        "def classify_bmi(bmi):\n",
        "    if bmi < 18.5:\n",
        "        return \"Underweight\"\n",
        "    elif 18.5 <= bmi < 25:\n",
        "        return \"Normal weight\"\n",
        "    elif 25 <= bmi < 30:\n",
        "        return \"Overweight\"\n",
        "    else:\n",
        "        return \"Obese\""
      ],
      "metadata": {
        "id": "STvnXgkwU6zx"
      },
      "execution_count": 3,
      "outputs": []
    },
    {
      "cell_type": "code",
      "source": [
        "def Get_Details():\n",
        "    weight = get_valid_weight()\n",
        "    height = get_valid_height()\n",
        "\n",
        "    bmi = calculate_bmi(weight, height)\n",
        "    category = classify_bmi(bmi)\n",
        "\n",
        "    print(f\"Your BMI is: {bmi:.2f}\")\n",
        "    print(f\"Category: {category}\")"
      ],
      "metadata": {
        "id": "f08ohBfYU7ob"
      },
      "execution_count": 4,
      "outputs": []
    },
    {
      "cell_type": "code",
      "source": [
        "Get_Details()"
      ],
      "metadata": {
        "colab": {
          "base_uri": "https://localhost:8080/"
        },
        "id": "cDfZyCm9U__S",
        "outputId": "95471628-e954-4d2f-fb6c-de66b4d19da3"
      },
      "execution_count": 6,
      "outputs": [
        {
          "output_type": "stream",
          "name": "stdout",
          "text": [
            "Enter your weight in kilograms: 100\n",
            "Enter your height in meters: 1.6\n",
            "Your BMI is: 39.06\n",
            "Category: Obese\n"
          ]
        }
      ]
    }
  ]
}